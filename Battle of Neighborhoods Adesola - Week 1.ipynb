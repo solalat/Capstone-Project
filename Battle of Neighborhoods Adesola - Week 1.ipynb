{
 "cells": [
  {
   "cell_type": "markdown",
   "metadata": {},
   "source": [
    "# Coursera Capstone Project\n",
    "\n",
    "## The Battle of Neighborhoods (Week 1)\n"
   ]
  },
  {
   "cell_type": "markdown",
   "metadata": {},
   "source": [
    "### Adesola Latona - Part 1 : Introduction and Data Sections"
   ]
  },
  {
   "cell_type": "markdown",
   "metadata": {},
   "source": [
    "### Coursera Capstone - REPORT CONTENT\n",
    "\n",
    "1.\tIntroduction Section : \n",
    "\t⁃\tDiscussion of the business problem and the interested audience in this project.\n",
    "2.\tData Section:  \n",
    "\t⁃\t Description of the data that will be used to solve the problem and the sources.\n",
    "3.\tMethodology section \n",
    "\t⁃\tDiscussion and description of exploratory data analysis carried out, any inferential statistical testing performed, and if any machine learnings were used establishing the strategy and purposes.\n",
    "4.\tResults section \n",
    "\t⁃\tDiscussion of the results.\n",
    "5.\tDiscussion section \n",
    "\t⁃\tElaboration and discussion on any observations noted and any recommendations suggested based on the results.\n",
    "6.\tConclusion section \n",
    "\t⁃\tReport Conclusion."
   ]
  },
  {
   "cell_type": "code",
   "execution_count": 19,
   "metadata": {},
   "outputs": [],
   "source": [
    "# A description of the problem and a discussion of the background. (15 marks)"
   ]
  },
  {
   "cell_type": "markdown",
   "metadata": {},
   "source": [
    "# 1.\tIntroduction Section : \n",
    "### Discussion of the business problem and the audience who would be interested in this project.\n"
   ]
  },
  {
   "cell_type": "markdown",
   "metadata": {},
   "source": [
    "### Description of the Problem and Background\n",
    "\n",
    "### Scenario:\n",
    "\n",
    "I am a data scientist residing in Rapid City,South Dakota. \n",
    "I currently work with a popular travel agency in the city as the resident data scientist where I make recommendations on proposed tourist sites for our various clients with travel destination to almost anywhere in the world. \n",
    "A couple of Italians living in my city are going for a conference in London,United Kingdom for a few days and upon returning to the United States will like to visit the windy city, Chicago,Illinois for about a week.\n",
    "With hotels already booked in the two cities, I have been saddled with the responsibilities of making the trip to London and Chicago memorable for the intending tourist.The requests of the tourist include finding locations around the hotel that has the following places of interest in London:\n",
    " 1.  High-end Boutiques\n",
    " 2.  Italian Resturants\n",
    " 3.  Intercontinental Resturants\n",
    " 4.  Departmental stores\n",
    " \n",
    "For  the Chicago location, clients wants the 3 best Italian resturants around the proposed location.\n",
    " \n",
    "In order to make a good recommendations, I have decided to use the skills I leanrt in my IBM Data Science program to solve the requests."
   ]
  },
  {
   "cell_type": "markdown",
   "metadata": {},
   "source": [
    "### Business Problem:   \n",
    "The challenge is to find good tourist sites for our clients based on their proposals for London and Chicago.\n",
    "\n",
    "\n",
    "### Interested Audience\n",
    "I believe this is a relevant challenge with valid questions and answers for my clients and anyone intending to go on holiday in London and Chicago.\n",
    "Going on hoidays without adequate informations can pose unforseen problems and also make the visi(s) not enjoyable.\n"
   ]
  },
  {
   "cell_type": "code",
   "execution_count": 20,
   "metadata": {},
   "outputs": [],
   "source": [
    "# A description of the data and how it will be used to solve the problem. (15 marks)"
   ]
  },
  {
   "cell_type": "markdown",
   "metadata": {},
   "source": [
    "# 2. Data Section:¶\n",
    "### Description of the data and its sources that will be used to solve the problem"
   ]
  },
  {
   "cell_type": "markdown",
   "metadata": {},
   "source": [
    "### Description of the Data:¶\n",
    "\n",
    "The following data is required to  answer the issues of the problem and allow for proper decision making:\n",
    "\n",
    "- List of Italian Resturants and the distances with their geodata (latitude and longitude) \n",
    "- List of Intercontinental Resturants with their address location \n",
    "- List of high-end boutiques with their addresses \n",
    "- Rating of the three closest Italian resturants in the city of Chicago and their addresses\n",
    "- Map of each neioghborhoods to aid navigation\n",
    "\n",
    "\n",
    "\n",
    "### How the data will be used to solve the problem\n",
    "\n",
    "The data will be used as follows:\n",
    "- Use Foursquare and geopy data to map top 10 venues for all London City neighborhoods and top 30 for City of Chicago neighborhood as they intend to spend more time in Chicago ( as per Course LAB)\n",
    "- Use foursquare and geopy data to map the location of Italian resturants , separately and on top of the above clustered map in order to be able to identify the venues and ammenities near each resturants.\n",
    "- create a map that depicts, for instance, the average rental price per square ft, around a radious of 1.0 mile (1.6 km) around each subway station - or a similar metrics. I will be able to quickly point to the popups to know the relative price per subway area.\n",
    "- Use the foursquare venue search,explore and rating functions to get necessary informations as required and convert to dataframe for use of the cients\n",
    "\n",
    "\n",
    "The procesing of these DATA will allow to answer the key questions to make a decision:\n",
    "- what are the closest tourist sites as per the clients request that are close to the clients hotel?\n",
    "- what are the list of the best Italian resturants in the city of Chicago with further review for best?\n",
    "- What are the best places for intercontinental dishes closest to the hotel?\n",
    "\n"
   ]
  },
  {
   "cell_type": "code",
   "execution_count": null,
   "metadata": {},
   "outputs": [],
   "source": []
  }
 ],
 "metadata": {
  "kernelspec": {
   "display_name": "Python 3",
   "language": "python",
   "name": "python3"
  },
  "language_info": {
   "codemirror_mode": {
    "name": "ipython",
    "version": 3
   },
   "file_extension": ".py",
   "mimetype": "text/x-python",
   "name": "python",
   "nbconvert_exporter": "python",
   "pygments_lexer": "ipython3",
   "version": "3.7.1"
  }
 },
 "nbformat": 4,
 "nbformat_minor": 2
}
